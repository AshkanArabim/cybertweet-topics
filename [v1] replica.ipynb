{
 "cells": [
  {
   "cell_type": "code",
   "execution_count": 49,
   "metadata": {},
   "outputs": [
    {
     "name": "stdout",
     "output_type": "stream",
     "text": [
      "[PhysicalDevice(name='/physical_device:GPU:0', device_type='GPU')]\n",
      "The tensorboard extension is already loaded. To reload it, use:\n",
      "  %reload_ext tensorboard\n"
     ]
    },
    {
     "name": "stderr",
     "output_type": "stream",
     "text": [
      "[nltk_data] Downloading package wordnet to /home/ashkan/nltk_data...\n",
      "[nltk_data]   Package wordnet is already up-to-date!\n",
      "[nltk_data] Downloading package stopwords to /home/ashkan/nltk_data...\n",
      "[nltk_data]   Package stopwords is already up-to-date!\n"
     ]
    }
   ],
   "source": [
    "import pandas as pd\n",
    "import re\n",
    "import sklearn as sk\n",
    "import numpy as np\n",
    "import seaborn as sns\n",
    "from sklearn.metrics import confusion_matrix, classification_report\n",
    "\n",
    "# file management\n",
    "import os\n",
    "import sys\n",
    "\n",
    "# nltk stuff\n",
    "import nltk\n",
    "from nltk.corpus import stopwords\n",
    "nltk.download('wordnet')\n",
    "nltk.download('stopwords')\n",
    "\n",
    "# deep learning\n",
    "import tensorflow as tf\n",
    "import keras\n",
    "from tensorflow.keras import layers\n",
    "print(tf.config.list_physical_devices('GPU')) # check if gpu is detected\n",
    "\n",
    "# visualization\n",
    "import matplotlib.pyplot as plt\n",
    "# tensorboard\n",
    "%load_ext tensorboard\n"
   ]
  },
  {
   "cell_type": "code",
   "execution_count": 14,
   "metadata": {},
   "outputs": [],
   "source": [
    "# preprocessing following paper\n",
    "\n",
    "# 1)lowercase\n",
    "\n",
    "# 2)tokenization\n",
    "\n",
    "# 3)remove non-ascii tokens\n",
    "\n",
    "# 4)rmeove punctuation\n",
    "\n",
    "# 5)remove non-alpha-numeric characters\n",
    "\n",
    "# 6)sub digits with words --> useless. I'll just change them to \"NUM\"\n",
    "\n",
    "# 7)remove stopwords (NLTK)\n",
    "\n",
    "# 8)lemmatization (NLTK)"
   ]
  },
  {
   "cell_type": "code",
   "execution_count": 31,
   "metadata": {},
   "outputs": [],
   "source": [
    "# hyperparameters \n",
    "VOCAB_SIZE = 10000\n",
    "MAX_TWEET_WORDS = 180 # max words in a 280 letter tweet is 180\n",
    "# BATCH_SIZE = 64"
   ]
  },
  {
   "cell_type": "code",
   "execution_count": 16,
   "metadata": {},
   "outputs": [
    {
     "name": "stdout",
     "output_type": "stream",
     "text": [
      "                                                text  annotation  \\\n",
      "0  Best way to build empathy is through honesty a...  irrelevant   \n",
      "1  Cryptocurrency Scams Replacing Ransomware as A...    business   \n",
      "2  Cryptocurrency Scams Replacing Ransomware as A...    business   \n",
      "3  Protect  your customers  access Prestashop Ant...      threat   \n",
      "4  Data leak from Huazhu Hotels may affect 130 mi...      threat   \n",
      "5  Instagram App 41.1788.50991.0 #Denial Of #Serv...      threat   \n",
      "6  (good slides): \\n\\nThe Advanced Exploitation o...      threat   \n",
      "7  CVE-2018-1000532 (beep)\\nhttps://t.co/CaKbo38U...      threat   \n",
      "8  Will upload some of yesterday's videos which d...      threat   \n",
      "9  Well you still protect them Ransomware Offline...    business   \n",
      "\n",
      "                type  \n",
      "0  ['Vulnerability']  \n",
      "1     ['ransomware']  \n",
      "2     ['ransomware']  \n",
      "3           ['Ddos']  \n",
      "4           ['leak']  \n",
      "5        ['General']  \n",
      "6  ['vulnerability']  \n",
      "7  ['vulnerability']  \n",
      "8           ['ddos']  \n",
      "9     ['ransomware']  \n",
      "annotations:  ['irrelevant' 'business' 'threat' 'unknown']\n",
      "types:\n",
      "['Vulnerability']\n",
      "['ransomware']\n",
      "['Ddos']\n",
      "['leak']\n",
      "['General']\n",
      "['vulnerability']\n",
      "['ddos']\n",
      "['general']\n",
      "['0day']\n",
      "['botnet']\n",
      "['ransomware', 'botnet']\n",
      "['Leak']\n",
      "['ddos', 'ransomware']\n",
      "['ddos', 'botnet']\n",
      "['0Day']\n",
      "['vulnerability', 'botnet']\n",
      "['All']\n",
      "['vulnerability', '0day']\n",
      "['vulnerability', 'ddos']\n",
      "['Ransomware']\n",
      "['Botnet']\n",
      "['vulnerability', 'ransomware']\n",
      "['ransomware', '0day']\n"
     ]
    }
   ],
   "source": [
    "# import data\n",
    "df = pd.read_csv('./cybertweets/annotated.csv')\n",
    "df = df.drop(['id'], axis = 1)\n",
    "print(df.head(10))\n",
    "print('annotations: ', df['annotation'].unique())\n",
    "print('types:')\n",
    "for unique_type in df['type'].unique():\n",
    "    print(unique_type)"
   ]
  },
  {
   "cell_type": "code",
   "execution_count": 23,
   "metadata": {},
   "outputs": [],
   "source": [
    "# preprocessing\n",
    "\n",
    "def text_preprocessing(tweets_list):\n",
    "    set_stopwords = set(stopwords.words('english'))\n",
    "\n",
    "    for i, txt in enumerate(tweets_list):\n",
    "        # lowercase\n",
    "        txt = txt.lower()\n",
    "        \n",
    "        # replace stuff\n",
    "        txt = re.sub('\\b\\S*[\\x80-\\xFF]\\S*\\b', '', txt) # any words with non-ascii characters\n",
    "        txt = re.sub('http[s]?://(?:[a-zA-Z]|[0-9]|[$-_@.&+]|[!*\\(\\),]|(?:%[0-9a-fA-F][0-9a-fA-F]))+', 'URL', txt) # urls\n",
    "        txt = re.sub('(?<!\\S)@([A-Za-z0-9_]+)(?!\\S)', 'USER', txt) # usernames\n",
    "        txt = re.sub('#\\w+', 'HASHTAG', txt) # hashtags\n",
    "        txt = re.sub('\\b\\d+\\b', 'NUM', txt) # numbers\n",
    "        txt = re.sub('[^\\w\\s]', '', txt) # punctuation\n",
    "\n",
    "        # https://saturncloud.io/blog/reshaping-text-data-for-lstm-models-in-keras-a-comprehensive-guide/\n",
    "\n",
    "        # tokenize\n",
    "        # nltk handles all punctuation as features\n",
    "        word_arr = re.split(f'\\s+', txt) # returns list of words\n",
    "    \n",
    "        # remove stopwords and drop empty strings\n",
    "        word_arr = [word for word in word_arr if word not in set_stopwords and len(word) != 0]\n",
    "        \n",
    "        # lemmatize\n",
    "        lemmatizer = nltk.stem.WordNetLemmatizer()\n",
    "        word_arr = [lemmatizer.lemmatize(word) for word in word_arr]\n",
    "\n",
    "        if i % 10000 == 0: # log the processed message in specified intervals\n",
    "            print(f\"Processed text #{i}:\", word_arr)\n",
    "            print(\"---------------------------\")\n",
    "\n",
    "    tokenizer = keras.preprocessing.text.Tokenizer(num_words = VOCAB_SIZE) \n",
    "    print('fitting tokenizer...')\n",
    "    tokenizer.fit_on_texts(tweets_list)\n",
    "    print('tokenizing...')\n",
    "    feature_vector = tokenizer.texts_to_sequences(tweets_list)\n",
    "\n",
    "    # add padding and convert to numpy array\n",
    "    print('padding sequences...')\n",
    "    feature_vector = np.asarray(keras.preprocessing.sequence.pad_sequences(\n",
    "            feature_vector,\n",
    "            padding = 'post',\n",
    "            maxlen = MAX_TWEET_WORDS,\n",
    "    ))\n",
    "\n",
    "    # DEBUG\n",
    "    print(feature_vector)\n",
    "    print('feature vector shape:', feature_vector.shape)\n",
    "\n",
    "    return feature_vector\n",
    "\n",
    "# preprocess annotations for initial binary classification\n",
    "def annotation_preprocessing(annotation_list):\n",
    "    # set all \"threat\" to 1, the rest to 0\n",
    "    return np.asarray([1 if x == \"threat\" else 0 for x in annotation_list])\n",
    "\n",
    "def train_valid_test_split(ds, train_ratio, valid_radio, batch_size):\n",
    "    train_ratio = 0.8\n",
    "    valid_ratio = 0.1\n",
    "    init_len = len(model1_ds)\n",
    "    num_train = np.floor(init_len * train_ratio)\n",
    "    num_valid = np.floor(init_len * valid_ratio)\n",
    "\n",
    "    train_ds = ds.take(num_train).batch(batch_size)\n",
    "    valid_ds = ds.skip(num_train).take(num_valid).batch(batch_size)\n",
    "    test_ds = ds.skip(num_train).skip(num_valid).batch(batch_size)\n",
    "    \n",
    "    print(f'train ds has {num_train} items in {len(train_ds)} batches.')\n",
    "    print(f'valid ds has {num_valid} items in {len(valid_ds)} batches.')\n",
    "    print(f'test ds has {init_len - num_train - num_valid} items in {len(test_ds)} batches.')\n",
    "\n",
    "    return (train_ds, valid_ds, test_ds)"
   ]
  },
  {
   "cell_type": "code",
   "execution_count": 62,
   "metadata": {},
   "outputs": [
    {
     "name": "stdout",
     "output_type": "stream",
     "text": [
      "Processed text #0: ['best', 'way', 'build', 'empathy', 'honesty', 'vulnerability']\n",
      "---------------------------\n",
      "Processed text #10000: ['leader', 'ddosforhire', 'gang', 'pleads', 'guilty', 'bomb', 'threat', 'URL', 'URL']\n",
      "---------------------------\n",
      "Processed text #20000: ['another', 'example', 'vulnerability', 'like', 'strut', 'effect', 'data', 'integrity', 'pii', 'protection', 'URL']\n",
      "---------------------------\n",
      "fitting tokenizer...\n",
      "tokenizing...\n",
      "padding sequences...\n",
      "[[ 326  225    6 ...    0    0    0]\n",
      " [ 645 1445 2522 ...    0    0    0]\n",
      " [ 645 1445 2522 ...    0    0    0]\n",
      " ...\n",
      " [ 188  517   14 ...    0    0    0]\n",
      " [  15   45 1017 ...    0    0    0]\n",
      " [ 316  696   21 ...    0    0    0]]\n",
      "feature vector shape: (21368, 180)\n",
      "[0 0 0 1 1 1 1 1 1 0]\n",
      "train ds has 17094.0 items in 17094 batches.\n",
      "valid ds has 2136.0 items in 2136 batches.\n",
      "test ds has 2138.0 items in 2138 batches.\n"
     ]
    }
   ],
   "source": [
    "model1_data = text_preprocessing(df['text'])\n",
    "model1_labels = annotation_preprocessing(df['annotation'])\n",
    "print(model1_labels[:10])\n",
    "\n",
    "# create tf dataset\n",
    "model1_ds = tf.data.Dataset.from_tensor_slices((model1_data, model1_labels))\n",
    "model1_train, model1_valid, model1_test = train_valid_test_split(model1_ds, 0.8, 0.1, 1)"
   ]
  },
  {
   "cell_type": "code",
   "execution_count": 65,
   "metadata": {},
   "outputs": [
    {
     "name": "stdout",
     "output_type": "stream",
     "text": [
      "Model: \"sequential_31\"\n",
      "_________________________________________________________________\n",
      " Layer (type)                Output Shape              Param #   \n",
      "=================================================================\n",
      " embedding_32 (Embedding)    (None, 180, 150)          1500000   \n",
      "                                                                 \n",
      " conv1d_27 (Conv1D)          (None, 180, 32)           38432     \n",
      "                                                                 \n",
      " max_pooling1d_27 (MaxPooli  (None, 90, 32)            0         \n",
      " ng1D)                                                           \n",
      "                                                                 \n",
      " flatten_17 (Flatten)        (None, 2880)              0         \n",
      "                                                                 \n",
      " dense_33 (Dense)            (None, 32)                92192     \n",
      "                                                                 \n",
      " dropout_5 (Dropout)         (None, 32)                0         \n",
      "                                                                 \n",
      " dense_34 (Dense)            (None, 1)                 33        \n",
      "                                                                 \n",
      "=================================================================\n",
      "Total params: 1630657 (6.22 MB)\n",
      "Trainable params: 1630657 (6.22 MB)\n",
      "Non-trainable params: 0 (0.00 Byte)\n",
      "_________________________________________________________________\n",
      "None\n",
      "Epoch 1/2\n",
      "17094/17094 [==============================] - 191s 11ms/step - loss: 0.2814 - acc: 0.8928 - val_loss: 0.3781 - val_acc: 0.8469\n",
      "Epoch 2/2\n",
      "17094/17094 [==============================] - 184s 11ms/step - loss: 0.1904 - acc: 0.9321 - val_loss: 0.4372 - val_acc: 0.8394\n"
     ]
    },
    {
     "data": {
      "image/png": "[encoded data removed]",
      "text/plain": [
       "<Figure size 640x480 with 1 Axes>"
      ]
     },
     "metadata": {},
     "output_type": "display_data"
    },
    {
     "data": {
      "image/png": "[encoded data removed]",
      "text/plain": [
       "<Figure size 640x480 with 1 Axes>"
      ]
     },
     "metadata": {},
     "output_type": "display_data"
    },
    {
     "name": "stdout",
     "output_type": "stream",
     "text": [
      "2138/2138 [==============================] - 9s 4ms/step - loss: 0.5909 - acc: 0.7521\n"
     ]
    },
    {
     "data": {
      "text/plain": [
       "[0.590908944606781, 0.7521047592163086]"
      ]
     },
     "execution_count": 65,
     "metadata": {},
     "output_type": "execute_result"
    }
   ],
   "source": [
    "# convolutional model??\n",
    "\n",
    "model1 = keras.Sequential([\n",
    "    layers.Embedding(VOCAB_SIZE, 150, input_length = MAX_TWEET_WORDS),\n",
    "    # layers.LSTM(MAX_TWEET_WORDS),\n",
    "\n",
    "    # conv layers --> following the paper\n",
    "    layers.Conv1D(32, 8, activation = 'relu', padding = 'same'),\n",
    "    layers.MaxPooling1D(2),\n",
    "    \n",
    "    # layers.Conv1D(32, 8, activation = 'relu', padding = 'same'),\n",
    "    # layers.MaxPooling1D(2),\n",
    "\n",
    "    layers.Flatten(),\n",
    "\n",
    "    layers.Dense(32, activation = 'relu'),\n",
    "    layers.Dropout(0.5),\n",
    "    layers.Dense(1, activation = 'sigmoid'),\n",
    "])\n",
    "\n",
    "model1.compile(\n",
    "    loss = keras.losses.BinaryCrossentropy(),\n",
    "    optimizer = keras.optimizers.Adam(),\n",
    "    metrics = ['acc'],\n",
    ")\n",
    "\n",
    "print(model1.summary())\n",
    "history = model1.fit(\n",
    "    model1_train,\n",
    "    validation_data = model1_valid,\n",
    "    epochs = 2,\n",
    ")\n",
    "\n",
    "# plot losses over time\n",
    "plt.plot(history.history['acc'])\n",
    "plt.plot(history.history['val_acc'])\n",
    "plt.title('Accuracy')\n",
    "plt.xlabel('epoch')\n",
    "plt.xlabel('accuracy')\n",
    "plt.legend(['train','val'], loc='upper left')\n",
    "plt.grid()\n",
    "plt.show()\n",
    "\n",
    "plt.plot(history.history['loss'])\n",
    "plt.plot(history.history['val_loss'])\n",
    "plt.title('Loss')\n",
    "plt.xlabel('epoch')\n",
    "plt.xlabel('loss')\n",
    "plt.legend(['train','val'], loc='upper left')\n",
    "plt.grid()\n",
    "plt.show()\n",
    "\n",
    "# evaluate\n",
    "model1.evaluate(model1_test)"
   ]
  },
  {
   "cell_type": "code",
   "execution_count": null,
   "metadata": {},
   "outputs": [],
   "source": [
    "import sys\n",
    "print(sys.version)"
   ]
  },
  {
   "cell_type": "code",
   "execution_count": null,
   "metadata": {},
   "outputs": [],
   "source": []
  }
 ],
 "metadata": {
  "kernelspec": {
   "display_name": "Python 3 (ipykernel)",
   "language": "python",
   "name": "python3"
  },
  "language_info": {
   "codemirror_mode": {
    "name": "ipython",
    "version": 3
   },
   "file_extension": ".py",
   "mimetype": "text/x-python",
   "name": "python",
   "nbconvert_exporter": "python",
   "pygments_lexer": "ipython3",
   "version": "3.9.17"
  }
 },
 "nbformat": 4,
 "nbformat_minor": 4
}
